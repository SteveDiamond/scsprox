{
 "cells": [
  {
   "cell_type": "markdown",
   "metadata": {},
   "source": [
    "- make sure resetting works as expected\n",
    "- tests for resetting\n",
    "- what things to expose in the object?\n",
    "- what things to expose in the top level interface?\n",
    "- checking that the prox is correct?\n",
    "- hide scswork\n",
    "- just expose the appropriate settings\n",
    "- explain how settings can be passed down\n",
    "- show that it knows its own zero element\n",
    "- can take in an empty dict"
   ]
  },
  {
   "cell_type": "markdown",
   "metadata": {},
   "source": [
    "# `scsprox` Demo\n",
    "`scsprox` creates fast proximal operators from CVXPY `Problem` objects.\n",
    "\n",
    "`scsprox` uses CVXPY to form the proximal operator problem and translate it to the SCS conic input format.\n",
    "This translation is performed **only once** during the `Prox` object initialization to save time.\n",
    "`scsprox` uses CySCS for matrix-factorization-caching and warm-starting to reduce solve times\n",
    "over many repeated solves, as occurs, for example, within the alternating-direction method of multipliers (ADMM)\n",
    "algorithm.\n",
    "\n",
    "- for the demo, first initialize a simple CVXPY problem"
   ]
  },
  {
   "cell_type": "code",
   "execution_count": 1,
   "metadata": {
    "collapsed": false
   },
   "outputs": [],
   "source": [
    "import numpy as np\n",
    "import cvxpy as cvx\n",
    "from scsprox import Prox\n",
    "\n",
    "m, n = 200, 100\n",
    "\n",
    "A = np.random.randn(m,n)\n",
    "b = np.random.randn(m)\n",
    "x = cvx.Variable(n)\n",
    "\n",
    "prob = cvx.Problem(cvx.Minimize(cvx.norm(A*x-b)))\n",
    "prob.solve()\n",
    "\n",
    "x_true = np.array(x.value).flatten()\n",
    "#x_true"
   ]
  },
  {
   "cell_type": "markdown",
   "metadata": {},
   "source": [
    "## form the `Prox` object\n",
    "- create the prox object by passing in the CVXPY problem, along with a dict, `prox_vars`, of the proximal variables\n",
    "- during initialization, the `Prox` object forms a CySCS `Workspace`, which computes and stores the SCS factorization (which only needs to be computed once)\n",
    "- the `Prox` object accepts arbitrary CVXPY problems and any dict of related CVXPY variables to form the prox"
   ]
  },
  {
   "cell_type": "code",
   "execution_count": 2,
   "metadata": {
    "collapsed": false
   },
   "outputs": [],
   "source": [
    "prox_vars = {'x': x}\n",
    "prox = Prox(prob, prox_vars)"
   ]
  },
  {
   "cell_type": "markdown",
   "metadata": {},
   "source": [
    "## evaluate the prox\n",
    "- evaluate the prox, noting that SCS **doesn't** initialize, because the factorization has been cached\n",
    "- note that this first call to `prox.do()` takes 40 iterations\n",
    "- the prox operator is evaluted on `x0`, a dictionary of variable names and values (matching the names and variable sizes in `prox_vars`)\n",
    "- within SCS, the `A` matrix doesn't change between prox calls, but the `b` and `c` vectors do change\n",
    "    - `Prox` automatically restuffs the values in `b` and `c` based on the data in `x0`\n",
    "    - restuffing is just an **indexing** operation, and **avoids the overhead** of CVXPY entirely"
   ]
  },
  {
   "cell_type": "code",
   "execution_count": 3,
   "metadata": {
    "collapsed": false
   },
   "outputs": [
    {
     "name": "stdout",
     "output_type": "stream",
     "text": [
      "SCS using variable warm-starting\n",
      "----------------------------------------------------------------------------\n",
      " Iter | pri res | dua res | rel gap | pri obj | dua obj | kap/tau | time (s)\n",
      "----------------------------------------------------------------------------\n",
      "     0| 1.70e+00  6.16e+00  9.86e-01 -2.06e+01  4.81e+01  0.00e+00  2.36e-03 \n",
      "    40| 1.83e-07  2.43e-06  2.55e-07  1.06e+01  1.06e+01  2.16e-15  7.35e-03 \n",
      "----------------------------------------------------------------------------\n",
      "Status: Solved\n",
      "Timing: Solve time: 7.36e-03s\n",
      "\tLin-sys: nnz in L factor: 30408, avg solve time: 1.17e-04s\n",
      "\tCones: avg projection time: 7.50e-07s\n",
      "----------------------------------------------------------------------------\n",
      "Error metrics:\n",
      "dist(s, K) = 1.1102e-16, dist(y, K*) = 0.0000e+00, s'y/|s||y| = -2.1643e-16\n",
      "|Ax + s - b|_2 / (1 + |b|_2) = 1.8296e-07\n",
      "|A'y + c|_2 / (1 + |c|_2) = 2.4284e-06\n",
      "|c'x + b'y| / (1 + |c'x| + |b'y|) = 2.5491e-07\n",
      "----------------------------------------------------------------------------\n",
      "c'x = 10.6029, -b'y = 10.6029\n",
      "============================================================================\n"
     ]
    }
   ],
   "source": [
    "x0 = {'x': np.zeros(n)}\n",
    "rho = 1.0\n",
    "x1 = prox.do(x0, rho, verbose=True)"
   ]
  },
  {
   "cell_type": "code",
   "execution_count": 11,
   "metadata": {
    "collapsed": false
   },
   "outputs": [
    {
     "data": {
      "text/plain": [
       "{'iter': 0,\n",
       " 'setup_time': 0.005640603,\n",
       " 'solve_time': 0.0021005859999999998,\n",
       " 'status': 'Solved'}"
      ]
     },
     "execution_count": 11,
     "metadata": {},
     "output_type": "execute_result"
    }
   ],
   "source": [
    "prox.info"
   ]
  },
  {
   "cell_type": "markdown",
   "metadata": {},
   "source": [
    "## automatic warm-starting\n",
    "- if we call `prox.do()` again, we can take advantage of warm-starting\n",
    "- the `Prox` object caches the last SCS solution, and uses it to warm-start the next SCS solve\n",
    "- with the same `x0` as the previous call, SCS does **0** iterations, because the warm-start solution from the previous iteration is already within the solver tolerance"
   ]
  },
  {
   "cell_type": "code",
   "execution_count": 6,
   "metadata": {
    "collapsed": false
   },
   "outputs": [
    {
     "name": "stdout",
     "output_type": "stream",
     "text": [
      "SCS using variable warm-starting\n",
      "----------------------------------------------------------------------------\n",
      " Iter | pri res | dua res | rel gap | pri obj | dua obj | kap/tau | time (s)\n",
      "----------------------------------------------------------------------------\n",
      "     0| 2.00e-07  1.89e-06  1.10e-07  1.06e+01  1.06e+01  0.00e+00  2.11e-03 \n",
      "----------------------------------------------------------------------------\n",
      "Status: Solved\n",
      "Timing: Solve time: 2.12e-03s\n",
      "\tLin-sys: nnz in L factor: 30408, avg solve time: 3.06e-04s\n",
      "\tCones: avg projection time: 2.52e-06s\n",
      "----------------------------------------------------------------------------\n",
      "Error metrics:\n",
      "dist(s, K) = 0.0000e+00, dist(y, K*) = 0.0000e+00, s'y/|s||y| = 5.1352e-16\n",
      "|Ax + s - b|_2 / (1 + |b|_2) = 2.0002e-07\n",
      "|A'y + c|_2 / (1 + |c|_2) = 1.8942e-06\n",
      "|c'x + b'y| / (1 + |c'x| + |b'y|) = 1.0985e-07\n",
      "----------------------------------------------------------------------------\n",
      "c'x = 10.6029, -b'y = 10.6029\n",
      "============================================================================\n"
     ]
    }
   ],
   "source": [
    "x0 = {'x': np.zeros(n)}\n",
    "rho = 1.0\n",
    "x1 = prox.do(x0, rho)"
   ]
  },
  {
   "cell_type": "markdown",
   "metadata": {},
   "source": [
    "## warm-starting 2\n",
    "- of course, we usually won't try to compute the prox on exactly the same value, but instead, a slight perturbation of that value\n",
    "- warm-starting still helps in this case, and still works automatically\n",
    "- we call the prox on `x1`, the output of the first prox computation\n",
    "- SCS is warm-started from the previous solution, which will tend to reduce the number of iterations needed"
   ]
  },
  {
   "cell_type": "code",
   "execution_count": 7,
   "metadata": {
    "collapsed": false
   },
   "outputs": [
    {
     "name": "stdout",
     "output_type": "stream",
     "text": [
      "SCS using variable warm-starting\n",
      "----------------------------------------------------------------------------\n",
      " Iter | pri res | dua res | rel gap | pri obj | dua obj | kap/tau | time (s)\n",
      "----------------------------------------------------------------------------\n",
      "     0| 6.45e-02  1.08e+00  8.74e-02  1.01e+01  8.43e+00  0.00e+00  2.36e-03 \n",
      "    20| 9.01e-06  2.04e-04  7.32e-06  1.02e+01  1.02e+01  3.28e-15  4.35e-03 \n",
      "----------------------------------------------------------------------------\n",
      "Status: Solved\n",
      "Timing: Solve time: 4.37e-03s\n",
      "\tLin-sys: nnz in L factor: 30408, avg solve time: 9.85e-05s\n",
      "\tCones: avg projection time: 7.69e-07s\n",
      "----------------------------------------------------------------------------\n",
      "Error metrics:\n",
      "dist(s, K) = 1.1102e-16, dist(y, K*) = 0.0000e+00, s'y/|s||y| = 4.6260e-16\n",
      "|Ax + s - b|_2 / (1 + |b|_2) = 9.0094e-06\n",
      "|A'y + c|_2 / (1 + |c|_2) = 2.0359e-04\n",
      "|c'x + b'y| / (1 + |c'x| + |b'y|) = 7.3157e-06\n",
      "----------------------------------------------------------------------------\n",
      "c'x = 10.2254, -b'y = 10.2253\n",
      "============================================================================\n"
     ]
    }
   ],
   "source": [
    "rho = 1.0\n",
    "x2 = prox.do(x1, rho)"
   ]
  },
  {
   "cell_type": "markdown",
   "metadata": {},
   "source": [
    "## proximal iteration\n",
    "- as an example application, we can solve the original CVXPY problem through proximal iteration"
   ]
  },
  {
   "cell_type": "code",
   "execution_count": 8,
   "metadata": {
    "collapsed": false
   },
   "outputs": [],
   "source": [
    "for i in range(20):\n",
    "    x0 = prox.do(x0, rho, verbose=False)"
   ]
  },
  {
   "cell_type": "markdown",
   "metadata": {},
   "source": [
    "- note that, after several iterations, proximal iteration converges, and the SCS solver finishes in **0** iterations"
   ]
  },
  {
   "cell_type": "code",
   "execution_count": 9,
   "metadata": {
    "collapsed": false
   },
   "outputs": [
    {
     "name": "stdout",
     "output_type": "stream",
     "text": [
      "SCS using variable warm-starting\n",
      "----------------------------------------------------------------------------\n",
      " Iter | pri res | dua res | rel gap | pri obj | dua obj | kap/tau | time (s)\n",
      "----------------------------------------------------------------------------\n",
      "     0| 3.54e-06  1.40e-05  5.37e-08  1.02e+01  1.02e+01  0.00e+00  2.08e-03 \n",
      "----------------------------------------------------------------------------\n",
      "Status: Solved\n",
      "Timing: Solve time: 2.10e-03s\n",
      "\tLin-sys: nnz in L factor: 30408, avg solve time: 1.97e-02s\n",
      "\tCones: avg projection time: 1.24e-04s\n",
      "----------------------------------------------------------------------------\n",
      "Error metrics:\n",
      "dist(s, K) = 0.0000e+00, dist(y, K*) = 2.2204e-16, s'y/|s||y| = 5.8841e-17\n",
      "|Ax + s - b|_2 / (1 + |b|_2) = 3.5369e-06\n",
      "|A'y + c|_2 / (1 + |c|_2) = 1.3954e-05\n",
      "|c'x + b'y| / (1 + |c'x| + |b'y|) = 5.3663e-08\n",
      "----------------------------------------------------------------------------\n",
      "c'x = 10.2119, -b'y = 10.2119\n",
      "============================================================================\n"
     ]
    }
   ],
   "source": [
    "x0 = prox.do(x0, rho, verbose=True)"
   ]
  },
  {
   "cell_type": "markdown",
   "metadata": {},
   "source": [
    "- we can do the same thing within an ADMM iteration:\n",
    "    - set the tolerance to, say, 1e-5\n",
    "    - set the maximum number of SCS iterations (per prox) to, say, 10 or 100\n",
    "    - this results in ADMM with approximate proximal evaluations (only a few SCS iterations), but which eventually converges (via warm-starting) to the desired tolerance of 1e-5"
   ]
  }
 ],
 "metadata": {
  "kernelspec": {
   "display_name": "Python 3",
   "language": "python",
   "name": "python3"
  },
  "language_info": {
   "codemirror_mode": {
    "name": "ipython",
    "version": 3
   },
   "file_extension": ".py",
   "mimetype": "text/x-python",
   "name": "python",
   "nbconvert_exporter": "python",
   "pygments_lexer": "ipython3",
   "version": "3.5.1"
  }
 },
 "nbformat": 4,
 "nbformat_minor": 0
}

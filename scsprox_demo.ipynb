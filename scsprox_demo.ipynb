{
 "cells": [
  {
   "cell_type": "markdown",
   "metadata": {},
   "source": [
    "# SCSProx Demo\n",
    "Compute proximal operators of CVXPY problems very quickly, using cached matrix factorizations, warm-starting, and \n",
    "re-stuffing which avoids the overhead of CVXPY.\n",
    "\n",
    "- for the demo, first initialize a simple CVXPY problem"
   ]
  },
  {
   "cell_type": "code",
   "execution_count": 1,
   "metadata": {
    "collapsed": false
   },
   "outputs": [],
   "source": [
    "from scsprox import Prox\n",
    "import numpy as np\n",
    "import cvxpy as cvx\n",
    "\n",
    "m, n = 400, 200\n",
    "\n",
    "x = cvx.Variable(n)\n",
    "\n",
    "np.random.seed(1)\n",
    "A = np.random.randn(m,n)\n",
    "b = np.random.randn(m)\n",
    "\n",
    "prob = cvx.Problem(cvx.Minimize(cvx.norm(A*x-b)))\n",
    "prob.solve()\n",
    "\n",
    "x_true = np.array(x.value).flatten()\n",
    "#x_true"
   ]
  },
  {
   "cell_type": "markdown",
   "metadata": {},
   "source": [
    "## form the `Prox` object\n",
    "- create the prox object by passing in the CVXPY problem, along with a dict, `prox_vars`, of the proximal variables\n",
    "- during initialization, the `Prox` object forms a CySCS `Workspace`, which computes and stores the SCS factorization (which only needs to be computed once)\n",
    "- the `Prox` object accepts arbitrary CVXPY problems and any dict of related CVXPY variables to form the prox"
   ]
  },
  {
   "cell_type": "code",
   "execution_count": 2,
   "metadata": {
    "collapsed": false
   },
   "outputs": [
    {
     "name": "stdout",
     "output_type": "stream",
     "text": [
      "----------------------------------------------------------------------------\n",
      "\tSCS v1.2.6 - Splitting Conic Solver\n",
      "\t(c) Brendan O'Donoghue, Stanford University, 2012-2016\n",
      "----------------------------------------------------------------------------\n",
      "Lin-sys: sparse-direct, nnz in A = 80203\n",
      "eps = 1.00e-03, alpha = 1.50, max_iters = 2500, normalize = 1, scale = 1.00\n",
      "Variables n = 202, constraints m = 603\n",
      "Cones:\tsoc vars: 603, soc blks: 2\n",
      "Setup time: 3.45e-02s\n"
     ]
    },
    {
     "name": "stderr",
     "output_type": "stream",
     "text": [
      "/Users/ajfriend/miniconda3/envs/env3/lib/python3.5/site-packages/cyscs/_util.py:165: UserWarning: Converting A.indptr and A.indices to arrays with dtype = numpy.int64\n",
      "  warn(\"Converting A.indptr and A.indices to arrays with dtype = numpy.int64\")\n"
     ]
    }
   ],
   "source": [
    "prox_vars = {'x': x}\n",
    "prox = Prox(prob, prox_vars)"
   ]
  },
  {
   "cell_type": "markdown",
   "metadata": {},
   "source": [
    "## evaluate the prox\n",
    "- evaluate the prox, noting that SCS **doesn't** initialize, because the factorization has been cached\n",
    "- note that this first call to `prox.do()` takes 40 iterations\n",
    "- the prox operator is evaluted on `x0`, a dictionary of variable names and values (matching the names and variable sizes in `prox_vars`)\n",
    "- within SCS, the `A` matrix doesn't change between prox calls, but the `b` and `c` vectors do change\n",
    "    - `Prox` automatically restuffs the values in `b` and `c` based on the data in `x0`\n",
    "    - restuffing is just an **indexing** operation, and **avoids the overhead** of CVXPY entirely"
   ]
  },
  {
   "cell_type": "code",
   "execution_count": 3,
   "metadata": {
    "collapsed": false
   },
   "outputs": [
    {
     "name": "stdout",
     "output_type": "stream",
     "text": [
      "SCS using variable warm-starting\n",
      "----------------------------------------------------------------------------\n",
      " Iter | pri res | dua res | rel gap | pri obj | dua obj | kap/tau | time (s)\n",
      "----------------------------------------------------------------------------\n",
      "     0| 1.63e+00  8.85e+00  9.89e-01 -2.84e+01  6.39e+01  0.00e+00  2.27e-03 \n",
      "    40| 2.52e-07  1.68e-06  4.28e-07  1.43e+01  1.43e+01  3.05e-15  2.57e-02 \n",
      "----------------------------------------------------------------------------\n",
      "Status: Solved\n",
      "Timing: Solve time: 2.57e-02s\n",
      "\tLin-sys: nnz in L factor: 100908, avg solve time: 5.56e-04s\n",
      "\tCones: avg projection time: 1.78e-06s\n",
      "----------------------------------------------------------------------------\n",
      "Error metrics:\n",
      "dist(s, K) = 0.0000e+00, dist(y, K*) = 0.0000e+00, s'y/|s||y| = -4.4263e-16\n",
      "|Ax + s - b|_2 / (1 + |b|_2) = 2.5241e-07\n",
      "|A'y + c|_2 / (1 + |c|_2) = 1.6757e-06\n",
      "|c'x + b'y| / (1 + |c'x| + |b'y|) = 4.2803e-07\n",
      "----------------------------------------------------------------------------\n",
      "c'x = 14.3283, -b'y = 14.3283\n",
      "============================================================================\n"
     ]
    }
   ],
   "source": [
    "x0 = {'x': np.zeros(n)}\n",
    "rho = 1.0\n",
    "x1 = prox.do(x0, rho)"
   ]
  },
  {
   "cell_type": "markdown",
   "metadata": {},
   "source": [
    "## automatic warm-starting\n",
    "- if we call `prox.do()` again, we can take advantage of warm-starting\n",
    "- the `Prox` object caches the last SCS solution, and uses it to warm-start the next SCS solve\n",
    "- with the same `x0` as the previous call, SCS does **0** iterations, because the warm-start solution from the previous iteration is already within the solver tolerance"
   ]
  },
  {
   "cell_type": "code",
   "execution_count": 4,
   "metadata": {
    "collapsed": false
   },
   "outputs": [
    {
     "name": "stdout",
     "output_type": "stream",
     "text": [
      "SCS using variable warm-starting\n",
      "----------------------------------------------------------------------------\n",
      " Iter | pri res | dua res | rel gap | pri obj | dua obj | kap/tau | time (s)\n",
      "----------------------------------------------------------------------------\n",
      "     0| 1.92e-07  1.17e-06  8.76e-09  1.43e+01  1.43e+01  0.00e+00  2.98e-03 \n",
      "----------------------------------------------------------------------------\n",
      "Status: Solved\n",
      "Timing: Solve time: 3.00e-03s\n",
      "\tLin-sys: nnz in L factor: 100908, avg solve time: 1.18e-03s\n",
      "\tCones: avg projection time: 4.77e-06s\n",
      "----------------------------------------------------------------------------\n",
      "Error metrics:\n",
      "dist(s, K) = 4.4409e-15, dist(y, K*) = 2.2204e-16, s'y/|s||y| = -6.0345e-16\n",
      "|Ax + s - b|_2 / (1 + |b|_2) = 1.9154e-07\n",
      "|A'y + c|_2 / (1 + |c|_2) = 1.1677e-06\n",
      "|c'x + b'y| / (1 + |c'x| + |b'y|) = 8.7562e-09\n",
      "----------------------------------------------------------------------------\n",
      "c'x = 14.3283, -b'y = 14.3283\n",
      "============================================================================\n"
     ]
    }
   ],
   "source": [
    "x0 = {'x': np.zeros(n)}\n",
    "rho = 1.0\n",
    "x1 = prox.do(x0, rho)"
   ]
  },
  {
   "cell_type": "markdown",
   "metadata": {},
   "source": [
    "## warm-starting 2\n",
    "- of course, we usually won't try to compute the prox on exactly the same value, but instead, a slight perturbation of that value\n",
    "- warm-starting still helps in this case, and still works automatically\n",
    "- we call the prox on `x1`, the output of the first prox computation\n",
    "- SCS is warm-started from the previous solution, which will tend to reduce the number of iterations needed"
   ]
  },
  {
   "cell_type": "code",
   "execution_count": 5,
   "metadata": {
    "collapsed": false
   },
   "outputs": [
    {
     "name": "stdout",
     "output_type": "stream",
     "text": [
      "SCS using variable warm-starting\n",
      "----------------------------------------------------------------------------\n",
      " Iter | pri res | dua res | rel gap | pri obj | dua obj | kap/tau | time (s)\n",
      "----------------------------------------------------------------------------\n",
      "     0| 7.79e-02  1.80e+00  1.27e-01  1.38e+01  1.06e+01  0.00e+00  3.04e-03 \n",
      "    20| 9.58e-06  2.06e-04  1.53e-06  1.39e+01  1.39e+01  4.76e-15  9.94e-03 \n",
      "----------------------------------------------------------------------------\n",
      "Status: Solved\n",
      "Timing: Solve time: 9.96e-03s\n",
      "\tLin-sys: nnz in L factor: 100908, avg solve time: 3.51e-04s\n",
      "\tCones: avg projection time: 1.53e-06s\n",
      "----------------------------------------------------------------------------\n",
      "Error metrics:\n",
      "dist(s, K) = 1.7764e-15, dist(y, K*) = 4.4409e-16, s'y/|s||y| = -4.4795e-16\n",
      "|Ax + s - b|_2 / (1 + |b|_2) = 9.5789e-06\n",
      "|A'y + c|_2 / (1 + |c|_2) = 2.0606e-04\n",
      "|c'x + b'y| / (1 + |c'x| + |b'y|) = 1.5295e-06\n",
      "----------------------------------------------------------------------------\n",
      "c'x = 13.8843, -b'y = 13.8843\n",
      "============================================================================\n"
     ]
    }
   ],
   "source": [
    "rho = 1.0\n",
    "x2 = prox.do(x1, rho)"
   ]
  },
  {
   "cell_type": "markdown",
   "metadata": {},
   "source": [
    "## proximal iteration\n",
    "- as an example application, we can solve the original CVXPY problem through proximal iteration"
   ]
  },
  {
   "cell_type": "code",
   "execution_count": 6,
   "metadata": {
    "collapsed": false
   },
   "outputs": [],
   "source": [
    "for i in range(20):\n",
    "    x0 = prox.do(x0, rho, verbose=False)"
   ]
  },
  {
   "cell_type": "markdown",
   "metadata": {},
   "source": [
    "- note that, after several iterations, proximal iteration converges, and the SCS solver finishes in **0** iterations"
   ]
  },
  {
   "cell_type": "code",
   "execution_count": 7,
   "metadata": {
    "collapsed": false
   },
   "outputs": [
    {
     "name": "stdout",
     "output_type": "stream",
     "text": [
      "SCS using variable warm-starting\n",
      "----------------------------------------------------------------------------\n",
      " Iter | pri res | dua res | rel gap | pri obj | dua obj | kap/tau | time (s)\n",
      "----------------------------------------------------------------------------\n",
      "     0| 3.77e-06  8.07e-05  2.22e-06  1.39e+01  1.39e+01  0.00e+00  2.53e-03 \n",
      "----------------------------------------------------------------------------\n",
      "Status: Solved\n",
      "Timing: Solve time: 2.55e-03s\n",
      "\tLin-sys: nnz in L factor: 100908, avg solve time: 7.10e-02s\n",
      "\tCones: avg projection time: 2.41e-04s\n",
      "----------------------------------------------------------------------------\n",
      "Error metrics:\n",
      "dist(s, K) = 2.2204e-16, dist(y, K*) = 2.7756e-17, s'y/|s||y| = 6.6904e-16\n",
      "|Ax + s - b|_2 / (1 + |b|_2) = 3.7744e-06\n",
      "|A'y + c|_2 / (1 + |c|_2) = 8.0667e-05\n",
      "|c'x + b'y| / (1 + |c'x| + |b'y|) = 2.2226e-06\n",
      "----------------------------------------------------------------------------\n",
      "c'x = 13.8774, -b'y = 13.8774\n",
      "============================================================================\n"
     ]
    }
   ],
   "source": [
    "x0 = prox.do(x0, rho, verbose=True)"
   ]
  },
  {
   "cell_type": "markdown",
   "metadata": {},
   "source": [
    "- we can do the same thing within an ADMM iteration:\n",
    "    - set the tolerance to, say, 1e-5\n",
    "    - set the maximum number of SCS iterations (per prox) to, say, 10 or 100\n",
    "    - this results in ADMM with approximate proximal evaluations (only a few SCS iterations), but which eventually converges (via warm-starting) to the desired tolerance of 1e-5"
   ]
  },
  {
   "cell_type": "code",
   "execution_count": null,
   "metadata": {
    "collapsed": true
   },
   "outputs": [],
   "source": []
  }
 ],
 "metadata": {
  "kernelspec": {
   "display_name": "Python 3",
   "language": "python",
   "name": "python3"
  },
  "language_info": {
   "codemirror_mode": {
    "name": "ipython",
    "version": 3
   },
   "file_extension": ".py",
   "mimetype": "text/x-python",
   "name": "python",
   "nbconvert_exporter": "python",
   "pygments_lexer": "ipython3",
   "version": "3.5.1"
  }
 },
 "nbformat": 4,
 "nbformat_minor": 0
}

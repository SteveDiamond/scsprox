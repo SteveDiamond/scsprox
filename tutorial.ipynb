{
 "cells": [
  {
   "cell_type": "markdown",
   "metadata": {},
   "source": [
    "# `scsprox` Tutorial\n",
    "\n",
    "`scsprox` creates fast proximal operators from CVXPY `Problem` objects.\n",
    "\n",
    "For this tutorial, we first create a simple CVXPY problem."
   ]
  },
  {
   "cell_type": "code",
   "execution_count": 1,
   "metadata": {
    "collapsed": false
   },
   "outputs": [],
   "source": [
    "import numpy as np\n",
    "import cvxpy as cvx\n",
    "\n",
    "m, n = 200, 100\n",
    "\n",
    "np.random.seed(2)\n",
    "A = np.random.randn(m,n)\n",
    "b = np.random.randn(m)\n",
    "x = cvx.Variable(n)\n",
    "\n",
    "prob = cvx.Problem(cvx.Minimize(cvx.norm(A*x-b)))\n",
    "prob.solve()\n",
    "\n",
    "# the \"true\" solution, as computed by CVXPY\n",
    "x_true = np.array(x.value).flatten()"
   ]
  },
  {
   "cell_type": "markdown",
   "metadata": {},
   "source": [
    "# Form the `Prox` object\n",
    "\n",
    "`scsprox` provides a single object, `Prox`.\n",
    "\n",
    "We create a `Prox` object by passing in a CVXPY problem, `prob`, along with a dict, `prox_vars`, of the proximal variables.\n",
    "That is, if `'x'` is a key in `prox_vars`, then we add the proximal regularization $\\frac{\\rho}{2}\\|x-x_0 \\|_2^2$\n",
    "to the objective in `prob` to create the proximal problem.\n",
    "\n",
    "During initialization, the `Prox` object forms a CySCS `Workspace`, which computes and stores the SCS factorization (which only needs to be computed once).\n",
    "\n",
    "The `Prox` object accepts arbitrary CVXPY problems and any dict of related CVXPY variables to form the prox.\n",
    "\n",
    "We set `verbose=True` below to confirm that SCS performs its matrix factorization."
   ]
  },
  {
   "cell_type": "code",
   "execution_count": 2,
   "metadata": {
    "collapsed": false
   },
   "outputs": [
    {
     "name": "stdout",
     "output_type": "stream",
     "text": [
      "----------------------------------------------------------------------------\n",
      "\tSCS v1.2.6 - Splitting Conic Solver\n",
      "\t(c) Brendan O'Donoghue, Stanford University, 2012-2016\n",
      "----------------------------------------------------------------------------\n",
      "Lin-sys: sparse-direct, nnz in A = 20103\n",
      "eps = 1.00e-03, alpha = 1.50, max_iters = 2500, normalize = 1, scale = 1.00\n",
      "Variables n = 102, constraints m = 303\n",
      "Cones:\tsoc vars: 303, soc blks: 2\n",
      "Setup time: 6.73e-03s\n"
     ]
    }
   ],
   "source": [
    "from scsprox import Prox\n",
    "prox_vars = {'x': x}\n",
    "prox = Prox(prob, prox_vars, verbose=True)"
   ]
  },
  {
   "cell_type": "markdown",
   "metadata": {},
   "source": [
    "# Evaluate the prox\n",
    "\n",
    "Below, we'll evaluate the prox using the `Prox.do()` method on the input dict `x0` with `rho=1.0`.\n",
    "`x0` is a dictionary of variable names and values (matching the names and variable sizes in `prox_vars`).\n",
    "\n",
    "Note that SCS **doesn't** initialize, because the factorization has been cached,\n",
    "and that this first call to `Prox.do()` takes 40 iterations.\n",
    "\n",
    "Again, we make sure `verbose=True` to see the SCS status output."
   ]
  },
  {
   "cell_type": "code",
   "execution_count": 3,
   "metadata": {
    "collapsed": false
   },
   "outputs": [
    {
     "name": "stdout",
     "output_type": "stream",
     "text": [
      "SCS using variable warm-starting\n",
      "----------------------------------------------------------------------------\n",
      " Iter | pri res | dua res | rel gap | pri obj | dua obj | kap/tau | time (s)\n",
      "----------------------------------------------------------------------------\n",
      "     0| 1.76e+00  5.93e+00  9.86e-01 -2.12e+01  5.03e+01  0.00e+00  1.88e-03 \n",
      "    40| 2.40e-07  1.84e-06  3.31e-08  1.11e+01  1.11e+01  2.21e-15  6.98e-03 \n",
      "----------------------------------------------------------------------------\n",
      "Status: Solved\n",
      "Timing: Solve time: 7.00e-03s\n",
      "\tLin-sys: nnz in L factor: 30408, avg solve time: 1.16e-04s\n",
      "\tCones: avg projection time: 7.27e-07s\n",
      "----------------------------------------------------------------------------\n",
      "Error metrics:\n",
      "dist(s, K) = 0.0000e+00, dist(y, K*) = 5.5511e-17, s'y/|s||y| = 3.8269e-16\n",
      "|Ax + s - b|_2 / (1 + |b|_2) = 2.3961e-07\n",
      "|A'y + c|_2 / (1 + |c|_2) = 1.8422e-06\n",
      "|c'x + b'y| / (1 + |c'x| + |b'y|) = 3.3080e-08\n",
      "----------------------------------------------------------------------------\n",
      "c'x = 11.0761, -b'y = 11.0761\n",
      "============================================================================\n"
     ]
    }
   ],
   "source": [
    "x0 = {'x': np.zeros(n)}\n",
    "rho = 1.0\n",
    "x1 = prox.do(x0, rho, verbose=True)"
   ]
  },
  {
   "cell_type": "markdown",
   "metadata": {},
   "source": [
    "# Prox status\n",
    "\n",
    "We can see a `dict` of `Prox` status information with `Prox.info`:"
   ]
  },
  {
   "cell_type": "code",
   "execution_count": 4,
   "metadata": {
    "collapsed": false
   },
   "outputs": [
    {
     "data": {
      "text/plain": [
       "{'iter': 40,\n",
       " 'setup_time': 0.006726358,\n",
       " 'solve_time': 0.006997787,\n",
       " 'status': 'Solved'}"
      ]
     },
     "execution_count": 4,
     "metadata": {},
     "output_type": "execute_result"
    }
   ],
   "source": [
    "prox.info"
   ]
  },
  {
   "cell_type": "markdown",
   "metadata": {},
   "source": [
    "# Automatic warm-starting\n",
    "\n",
    "If we call `prox.do()` again, we can take advantage of warm-starting.\n",
    "With the same `x0` and `rho` values, we see that the prox completes in 0 SCS iterations!\n",
    "\n",
    "This is because the SCS solution from the previous `Prox.do()` call is used to warm-start this call.\n",
    "Since `x0` and `rho` are the same, the SCS problem is identical, and no further iterations are needed."
   ]
  },
  {
   "cell_type": "code",
   "execution_count": 5,
   "metadata": {
    "collapsed": false,
    "scrolled": true
   },
   "outputs": [
    {
     "name": "stdout",
     "output_type": "stream",
     "text": [
      "SCS using variable warm-starting\n",
      "----------------------------------------------------------------------------\n",
      " Iter | pri res | dua res | rel gap | pri obj | dua obj | kap/tau | time (s)\n",
      "----------------------------------------------------------------------------\n",
      "     0| 1.58e-07  1.53e-06  1.49e-07  1.11e+01  1.11e+01  0.00e+00  2.09e-03 \n",
      "----------------------------------------------------------------------------\n",
      "Status: Solved\n",
      "Timing: Solve time: 2.11e-03s\n",
      "\tLin-sys: nnz in L factor: 30408, avg solve time: 2.79e-04s\n",
      "\tCones: avg projection time: 3.52e-06s\n",
      "----------------------------------------------------------------------------\n",
      "Error metrics:\n",
      "dist(s, K) = 2.6645e-15, dist(y, K*) = 2.2204e-16, s'y/|s||y| = -7.8502e-16\n",
      "|Ax + s - b|_2 / (1 + |b|_2) = 1.5790e-07\n",
      "|A'y + c|_2 / (1 + |c|_2) = 1.5322e-06\n",
      "|c'x + b'y| / (1 + |c'x| + |b'y|) = 1.4893e-07\n",
      "----------------------------------------------------------------------------\n",
      "c'x = 11.0761, -b'y = 11.0760\n",
      "============================================================================\n"
     ]
    }
   ],
   "source": [
    "x0 = {'x': np.zeros(n)}\n",
    "rho = 1.0\n",
    "x1 = prox.do(x0, rho, verbose=True)"
   ]
  },
  {
   "cell_type": "markdown",
   "metadata": {},
   "source": [
    "# More realistic warm-starting\n",
    "\n",
    "Of course, we usually won't try to compute the prox on exactly the same value, but instead, a slight perturbation of that value. Warm-starting still helps in this case, and still works automatically.\n",
    "\n",
    "To see this, we call `Prox.do()` on `x1`, the output of the first prox computation.\n",
    "SCS is warm-started from the previous solution, which will tend to reduce the number of iterations needed."
   ]
  },
  {
   "cell_type": "code",
   "execution_count": 6,
   "metadata": {
    "collapsed": false,
    "scrolled": true
   },
   "outputs": [
    {
     "name": "stdout",
     "output_type": "stream",
     "text": [
      "SCS using variable warm-starting\n",
      "----------------------------------------------------------------------------\n",
      " Iter | pri res | dua res | rel gap | pri obj | dua obj | kap/tau | time (s)\n",
      "----------------------------------------------------------------------------\n",
      "     0| 5.67e-02  1.01e+00  7.06e-02  1.07e+01  9.18e+00  0.00e+00  2.86e-03 \n",
      "    20| 6.15e-06  1.54e-04  4.02e-06  1.07e+01  1.07e+01  3.30e-15  5.56e-03 \n",
      "----------------------------------------------------------------------------\n",
      "Status: Solved\n",
      "Timing: Solve time: 5.58e-03s\n",
      "\tLin-sys: nnz in L factor: 30408, avg solve time: 1.25e-04s\n",
      "\tCones: avg projection time: 9.75e-07s\n",
      "----------------------------------------------------------------------------\n",
      "Error metrics:\n",
      "dist(s, K) = 1.1102e-16, dist(y, K*) = 0.0000e+00, s'y/|s||y| = -2.5559e-16\n",
      "|Ax + s - b|_2 / (1 + |b|_2) = 6.1523e-06\n",
      "|A'y + c|_2 / (1 + |c|_2) = 1.5411e-04\n",
      "|c'x + b'y| / (1 + |c'x| + |b'y|) = 4.0204e-06\n",
      "----------------------------------------------------------------------------\n",
      "c'x = 10.7377, -b'y = 10.7376\n",
      "============================================================================\n"
     ]
    }
   ],
   "source": [
    "x2 = prox.do(x1, 1.0)"
   ]
  },
  {
   "cell_type": "markdown",
   "metadata": {},
   "source": [
    "Note that the `Prox.info` dict has been updated."
   ]
  },
  {
   "cell_type": "code",
   "execution_count": 7,
   "metadata": {
    "collapsed": false
   },
   "outputs": [
    {
     "data": {
      "text/plain": [
       "{'iter': 20,\n",
       " 'setup_time': 0.006726358,\n",
       " 'solve_time': 0.0055819450000000005,\n",
       " 'status': 'Solved'}"
      ]
     },
     "execution_count": 7,
     "metadata": {},
     "output_type": "execute_result"
    }
   ],
   "source": [
    "prox.info"
   ]
  },
  {
   "cell_type": "markdown",
   "metadata": {},
   "source": [
    "# Proximal iteration\n",
    "\n",
    "As an example application, we can solve the original CVXPY problem through proximal iteration.\n",
    "This involves repeated application of the prox operator."
   ]
  },
  {
   "cell_type": "code",
   "execution_count": 8,
   "metadata": {
    "collapsed": false
   },
   "outputs": [],
   "source": [
    "for i in range(20):\n",
    "    x0 = prox.do(x0, 1.0, verbose=False)"
   ]
  },
  {
   "cell_type": "markdown",
   "metadata": {},
   "source": [
    "Note that, after several iterations, proximal iteration converges, and the SCS solver finishes in **0** iterations."
   ]
  },
  {
   "cell_type": "code",
   "execution_count": 9,
   "metadata": {
    "collapsed": false,
    "scrolled": true
   },
   "outputs": [
    {
     "data": {
      "text/plain": [
       "{'iter': 0,\n",
       " 'setup_time': 0.006726358,\n",
       " 'solve_time': 0.000330299,\n",
       " 'status': 'Solved'}"
      ]
     },
     "execution_count": 9,
     "metadata": {},
     "output_type": "execute_result"
    }
   ],
   "source": [
    "prox.info"
   ]
  },
  {
   "cell_type": "markdown",
   "metadata": {},
   "source": [
    "# Resetting warm-starting\n",
    "\n",
    "We can also reset the internal warm-start vector to zero, by calling `Prox.reset_warm_start()`."
   ]
  },
  {
   "cell_type": "code",
   "execution_count": 10,
   "metadata": {
    "collapsed": false
   },
   "outputs": [
    {
     "data": {
      "text/plain": [
       "{'iter': 0,\n",
       " 'setup_time': 0.006726358,\n",
       " 'solve_time': 0.000431812,\n",
       " 'status': 'Solved'}"
      ]
     },
     "execution_count": 10,
     "metadata": {},
     "output_type": "execute_result"
    }
   ],
   "source": [
    "prox.do(x0)\n",
    "prox.info"
   ]
  },
  {
   "cell_type": "markdown",
   "metadata": {},
   "source": [
    "Note that calling `Prox.reset_warm_start()` increases the number of SCS iterations required to find the solution."
   ]
  },
  {
   "cell_type": "code",
   "execution_count": 11,
   "metadata": {
    "collapsed": false
   },
   "outputs": [
    {
     "data": {
      "text/plain": [
       "{'iter': 20,\n",
       " 'setup_time': 0.006726358,\n",
       " 'solve_time': 0.004802309,\n",
       " 'status': 'Solved'}"
      ]
     },
     "execution_count": 11,
     "metadata": {},
     "output_type": "execute_result"
    }
   ],
   "source": [
    "prox.reset_warm_start()\n",
    "prox.do(x0, verbose=False)\n",
    "prox.info"
   ]
  },
  {
   "cell_type": "markdown",
   "metadata": {},
   "source": [
    "# Prox zero element\n",
    "\n",
    "The `Prox` object is aware of its input variable names and sizes.\n",
    "If we call `Prox.do()` without specifying `x0`, or setting it to `{}` or `None`,\n",
    "the `Prox` object will automatically replace `x0` with the zero element of the\n",
    "appropriate size, which the user can also access through `Prox.zero_elem`."
   ]
  },
  {
   "cell_type": "code",
   "execution_count": 12,
   "metadata": {
    "collapsed": false
   },
   "outputs": [
    {
     "name": "stdout",
     "output_type": "stream",
     "text": [
      "SCS using variable warm-starting\n",
      "----------------------------------------------------------------------------\n",
      " Iter | pri res | dua res | rel gap | pri obj | dua obj | kap/tau | time (s)\n",
      "----------------------------------------------------------------------------\n",
      "     0| 7.81e-02  9.28e-01  1.29e-02  1.26e+01  1.29e+01  0.00e+00  3.73e-03 \n",
      "    20| 4.83e-05  9.95e-04  1.14e-05  1.11e+01  1.11e+01  1.65e-15  6.59e-03 \n",
      "----------------------------------------------------------------------------\n",
      "Status: Solved\n",
      "Timing: Solve time: 6.61e-03s\n",
      "\tLin-sys: nnz in L factor: 30408, avg solve time: 1.53e-03s\n",
      "\tCones: avg projection time: 8.30e-06s\n",
      "----------------------------------------------------------------------------\n",
      "Error metrics:\n",
      "dist(s, K) = 0.0000e+00, dist(y, K*) = 2.2204e-16, s'y/|s||y| = 1.1968e-16\n",
      "|Ax + s - b|_2 / (1 + |b|_2) = 4.8319e-05\n",
      "|A'y + c|_2 / (1 + |c|_2) = 9.9489e-04\n",
      "|c'x + b'y| / (1 + |c'x| + |b'y|) = 1.1363e-05\n",
      "----------------------------------------------------------------------------\n",
      "c'x = 11.0770, -b'y = 11.0772\n",
      "============================================================================\n"
     ]
    }
   ],
   "source": [
    "x0 = prox.do(verbose=True)"
   ]
  },
  {
   "cell_type": "code",
   "execution_count": 13,
   "metadata": {
    "collapsed": false
   },
   "outputs": [
    {
     "data": {
      "text/plain": [
       "{'x': array([ 0.,  0.,  0.,  0.,  0.,  0.,  0.,  0.,  0.,  0.,  0.,  0.,  0.,\n",
       "         0.,  0.,  0.,  0.,  0.,  0.,  0.,  0.,  0.,  0.,  0.,  0.,  0.,\n",
       "         0.,  0.,  0.,  0.,  0.,  0.,  0.,  0.,  0.,  0.,  0.,  0.,  0.,\n",
       "         0.,  0.,  0.,  0.,  0.,  0.,  0.,  0.,  0.,  0.,  0.,  0.,  0.,\n",
       "         0.,  0.,  0.,  0.,  0.,  0.,  0.,  0.,  0.,  0.,  0.,  0.,  0.,\n",
       "         0.,  0.,  0.,  0.,  0.,  0.,  0.,  0.,  0.,  0.,  0.,  0.,  0.,\n",
       "         0.,  0.,  0.,  0.,  0.,  0.,  0.,  0.,  0.,  0.,  0.,  0.,  0.,\n",
       "         0.,  0.,  0.,  0.,  0.,  0.,  0.,  0.,  0.])}"
      ]
     },
     "execution_count": 13,
     "metadata": {},
     "output_type": "execute_result"
    }
   ],
   "source": [
    "prox.zero_elem"
   ]
  },
  {
   "cell_type": "markdown",
   "metadata": {},
   "source": [
    "# SCS settings\n",
    "\n",
    "CySCS solver settings can be passed to the `Prox` object either during initialization or through `Prox.do()` as keyword arguments. We've already seen this with the `verbose=True` setting.\n",
    "\n",
    "Some other common settings are to set the solver tolerance and the maximum number of iterations.\n",
    "\n",
    "Settings set by the `Prox` constructor or `Prox.do()` persist until explicitly modified again."
   ]
  },
  {
   "cell_type": "code",
   "execution_count": 14,
   "metadata": {
    "collapsed": false
   },
   "outputs": [
    {
     "name": "stdout",
     "output_type": "stream",
     "text": [
      "SCS using variable warm-starting\n",
      "----------------------------------------------------------------------------\n",
      " Iter | pri res | dua res | rel gap | pri obj | dua obj | kap/tau | time (s)\n",
      "----------------------------------------------------------------------------\n",
      "     0| 2.71e-05  7.55e-04  1.39e-05  1.11e+01  1.11e+01  0.00e+00  8.40e-03 \n",
      "    60| 4.37e-13  1.54e-11  6.17e-13  1.11e+01  1.11e+01  1.53e-15  2.28e-02 \n",
      "----------------------------------------------------------------------------\n",
      "Status: Solved\n",
      "Timing: Solve time: 2.28e-02s\n",
      "\tLin-sys: nnz in L factor: 30408, avg solve time: 2.01e-04s\n",
      "\tCones: avg projection time: 8.96e-07s\n",
      "----------------------------------------------------------------------------\n",
      "Error metrics:\n",
      "dist(s, K) = 0.0000e+00, dist(y, K*) = 1.1102e-16, s'y/|s||y| = 1.0042e-16\n",
      "|Ax + s - b|_2 / (1 + |b|_2) = 4.3750e-13\n",
      "|A'y + c|_2 / (1 + |c|_2) = 1.5438e-11\n",
      "|c'x + b'y| / (1 + |c'x| + |b'y|) = 6.1664e-13\n",
      "----------------------------------------------------------------------------\n",
      "c'x = 11.0760, -b'y = 11.0760\n",
      "============================================================================\n"
     ]
    }
   ],
   "source": [
    "x0 = prox.do(eps=1e-9, verbose=True)"
   ]
  },
  {
   "cell_type": "code",
   "execution_count": 15,
   "metadata": {
    "collapsed": false
   },
   "outputs": [
    {
     "data": {
      "text/plain": [
       "{'iter': 60,\n",
       " 'setup_time': 0.006726358,\n",
       " 'solve_time': 0.022789025,\n",
       " 'status': 'Solved'}"
      ]
     },
     "execution_count": 15,
     "metadata": {},
     "output_type": "execute_result"
    }
   ],
   "source": [
    "prox.info"
   ]
  },
  {
   "cell_type": "markdown",
   "metadata": {
    "collapsed": true
   },
   "source": [
    "# Problems with several variables\n",
    "\n",
    "Many problems have more than one array variable for which we'd like to add proximal regularization.\n",
    "These variables simply need to be named, and included in the `prox_vars` dict input to `Prox(prob, prox_vars)` constructor."
   ]
  },
  {
   "cell_type": "code",
   "execution_count": 16,
   "metadata": {
    "collapsed": true
   },
   "outputs": [],
   "source": [
    "m, n = 10, 5\n",
    "\n",
    "A = np.random.randn(m,n)\n",
    "b = np.random.randn(m)\n",
    "\n",
    "x = cvx.Variable(n)\n",
    "y = cvx.Variable(m)\n",
    "z = cvx.Variable()\n",
    "\n",
    "obj = cvx.sum_squares(A*x-b) + cvx.norm(A.T*y - x) + 0.1*cvx.norm(y) + cvx.norm(z-y)\n",
    "\n",
    "prob = cvx.Problem(cvx.Minimize(obj))"
   ]
  },
  {
   "cell_type": "code",
   "execution_count": 17,
   "metadata": {
    "collapsed": false
   },
   "outputs": [],
   "source": [
    "prox_vars = dict(x=x,y=y,z=z)\n",
    "prox = Prox(prob, prox_vars)"
   ]
  },
  {
   "cell_type": "markdown",
   "metadata": {},
   "source": [
    "Note that the output to `Prox.do()` is a dict with keys `'x'`, `'y'`, and `'z'`.\n",
    "\n",
    "`'x'` and `'y'` correspond to `numpy.array` objects, while `'z'` is simply a Python `float`."
   ]
  },
  {
   "cell_type": "code",
   "execution_count": 18,
   "metadata": {
    "collapsed": false
   },
   "outputs": [
    {
     "data": {
      "text/plain": [
       "{'x': array([ 0.46352994,  0.22774606,  0.34405149, -0.4022498 , -0.28476353]),\n",
       " 'y': array([ 0.00824547,  0.00818007,  0.00625243,  0.00743582,  0.0065997 ,\n",
       "         0.00818434,  0.00755595,  0.00566383,  0.00944163,  0.01110097]),\n",
       " 'z': 0.0078621414488371805}"
      ]
     },
     "execution_count": 18,
     "metadata": {},
     "output_type": "execute_result"
    }
   ],
   "source": [
    "prox.do()"
   ]
  },
  {
   "cell_type": "markdown",
   "metadata": {},
   "source": [
    "# Many proxes in parallel\n",
    "\n",
    "Since the underlying CySCS solver releases the Python GIL, we can evaluate many prox operators in parallel using multiple threads. Threads consume less memory than separate Python processes, and do not require data serialization to communicate between processes.\n",
    "\n",
    "To see this in action, we'll first create several CVXPY problems and their prox operators."
   ]
  },
  {
   "cell_type": "code",
   "execution_count": 19,
   "metadata": {
    "collapsed": true
   },
   "outputs": [],
   "source": [
    "m, n = 600, 400\n",
    "k = 10\n",
    "np.random.seed(0)\n",
    "\n",
    "x = cvx.Variable(n)\n",
    "xvars = {'x': x}\n",
    "\n",
    "proxes = []\n",
    "for _ in range(k):\n",
    "    A = np.random.randn(m,n)\n",
    "    b = np.random.randn(m)\n",
    "    prob = cvx.Problem(cvx.Minimize(cvx.norm(A*x-b)))\n",
    "    \n",
    "    proxes += [Prox(prob,xvars, eps=1e-9)]"
   ]
  },
  {
   "cell_type": "markdown",
   "metadata": {},
   "source": [
    "We'll use the Python `concurrent.futures` module for our parallel computation.\n",
    "The module provides a `ThreadPoolExecutor` which has a `map()` method which distributes the computation across multiple threads.\n",
    "\n",
    "`concurrent.futures` is part of the Python 3 standard library, and is backported to Python 2 via th\n",
    "\n",
    "To use this interface, we define a simple function `do()` to map over our list of proxes, which does nothing more\n",
    "than call the `Prox.do()` method. We would need only a slightly more complicated function to pass in specific `x0` values to each prox."
   ]
  },
  {
   "cell_type": "code",
   "execution_count": 20,
   "metadata": {
    "collapsed": true
   },
   "outputs": [],
   "source": [
    "def do(prox):\n",
    "    return prox.do()"
   ]
  },
  {
   "cell_type": "markdown",
   "metadata": {},
   "source": [
    "We create a `ThreadPoolExecutor` with 2 threads, and ensure that the warm-start is reset."
   ]
  },
  {
   "cell_type": "code",
   "execution_count": 21,
   "metadata": {
    "collapsed": false
   },
   "outputs": [],
   "source": [
    "from concurrent.futures import ThreadPoolExecutor\n",
    "\n",
    "ex = ThreadPoolExecutor(2)\n",
    "\n",
    "for prox in proxes:\n",
    "    prox.reset_warm_start()"
   ]
  },
  {
   "cell_type": "markdown",
   "metadata": {},
   "source": [
    "We can do the classic (non-parallel) computation by using the Python builtin `map()` function.\n",
    "\n",
    "Note that this code is equivalent to the list comprehension\n",
    "\n",
    "```python\n",
    "output = [prox.do() for prox in proxes]\n",
    "```\n",
    "\n",
    "or the for loop\n",
    "\n",
    "```python\n",
    "output = []\n",
    "for prox in proxes:\n",
    "    output += [prox.do()]\n",
    "```\n",
    "\n",
    "We write it as a `map` here because its form is identical to the upcoming parallel computation.\n",
    "\n",
    "We can time the cell to note the total wall clock time."
   ]
  },
  {
   "cell_type": "code",
   "execution_count": 22,
   "metadata": {
    "collapsed": false
   },
   "outputs": [
    {
     "name": "stdout",
     "output_type": "stream",
     "text": [
      "CPU times: user 2.03 s, sys: 11.3 ms, total: 2.05 s\n",
      "Wall time: 2.07 s\n"
     ]
    }
   ],
   "source": [
    "%%time\n",
    "output = list(map(do, proxes))"
   ]
  },
  {
   "cell_type": "markdown",
   "metadata": {},
   "source": [
    "Making sure to reset the warm-start variables, we can do the computation in parallel by simply replacing\n",
    "`map()` with `ex.map()`.\n",
    "\n",
    "Note that the wall clock time is reduced, since we distribute the computation across two threads (on a dual-core machine)."
   ]
  },
  {
   "cell_type": "code",
   "execution_count": 23,
   "metadata": {
    "collapsed": true
   },
   "outputs": [],
   "source": [
    "for prox in proxes:\n",
    "    prox.reset_warm_start()"
   ]
  },
  {
   "cell_type": "code",
   "execution_count": 24,
   "metadata": {
    "collapsed": false
   },
   "outputs": [
    {
     "name": "stdout",
     "output_type": "stream",
     "text": [
      "CPU times: user 2.61 s, sys: 26.8 ms, total: 2.63 s\n",
      "Wall time: 1.38 s\n"
     ]
    }
   ],
   "source": [
    "%%time\n",
    "output = list(ex.map(do, proxes))"
   ]
  },
  {
   "cell_type": "markdown",
   "metadata": {},
   "source": [
    "We can see that the sum of the SCS computation times is about twice the parallel wall clock time, which is exactly what we'd expect!"
   ]
  },
  {
   "cell_type": "code",
   "execution_count": 25,
   "metadata": {
    "collapsed": false
   },
   "outputs": [
    {
     "data": {
      "text/plain": [
       "2.650281737"
      ]
     },
     "execution_count": 25,
     "metadata": {},
     "output_type": "execute_result"
    }
   ],
   "source": [
    "sum(prox.info['solve_time'] for prox in proxes)"
   ]
  }
 ],
 "metadata": {
  "kernelspec": {
   "display_name": "Python 3",
   "language": "python",
   "name": "python3"
  },
  "language_info": {
   "codemirror_mode": {
    "name": "ipython",
    "version": 3
   },
   "file_extension": ".py",
   "mimetype": "text/x-python",
   "name": "python",
   "nbconvert_exporter": "python",
   "pygments_lexer": "ipython3",
   "version": "3.5.1"
  }
 },
 "nbformat": 4,
 "nbformat_minor": 0
}

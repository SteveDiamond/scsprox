{
 "cells": [
  {
   "cell_type": "markdown",
   "metadata": {},
   "source": [
    "- check that auto-warm-starting works\n",
    "- write some corretness checks that make sure the proxes are doing the right things\n",
    "- add timing code\n",
    "- prox.info?\n",
    "- prox.prox is weird: .solve or .do?\n",
    "- what kind of options can we pass? iterations, tolerance, ...\n",
    "- what if a solve fails? raise? warn?\n",
    "- make sure memory isn't going crazy\n",
    "- make sure output is appropriate size. number should just be numbers\n",
    "- test data mutability\n",
    "- fix the solvetime calculation for SCS. make sure its in seconds\n",
    "- proxer can fix the tolerance....\n",
    "\n",
    "# user options\n",
    "- what would user want to change?\n",
    "    - rho\n",
    "    - eps\n",
    "    - maxiters\n",
    "    - fail behavior?\n",
    "    - verbose\n",
    "    - put in a custom warm-start?\n",
    "    - reset warm-start\n",
    "    \n",
    "    \n",
    "# fast proxer\n",
    "- just set a tolerance 1e-7\n",
    "- set the max iters to 100 or something\n",
    "- warm starting lets the iters get to zero if needed\n",
    "- workspace persists in settings of 1e-7 and max iters = 100\n",
    "\n",
    "\n",
    "# info\n",
    "- prox object has its own info.\n",
    "- convert the times properly yourself\n",
    "    - solve time\n",
    "    - setup time (fixed?)\n",
    "    - iter\n",
    "    - status string\n",
    "- raise error if `solve` not in str\n",
    "- stop iteration when everyone is `solved`"
   ]
  },
  {
   "cell_type": "code",
   "execution_count": 1,
   "metadata": {
    "collapsed": true
   },
   "outputs": [],
   "source": [
    "import numpy as np\n",
    "import cvxpy as cvx\n",
    "from scs_prox.prox_obj import Prox"
   ]
  },
  {
   "cell_type": "code",
   "execution_count": 2,
   "metadata": {
    "collapsed": true
   },
   "outputs": [],
   "source": [
    "from scs_prox.examples import example_rand\n",
    "\n",
    "prob, x_vars, true_sol = example_rand()"
   ]
  },
  {
   "cell_type": "code",
   "execution_count": 3,
   "metadata": {
    "collapsed": false
   },
   "outputs": [
    {
     "data": {
      "text/plain": [
       "{'x': Variable(5, 1), 'y': Variable(10, 1), 'z': Variable(1, 1)}"
      ]
     },
     "execution_count": 3,
     "metadata": {},
     "output_type": "execute_result"
    }
   ],
   "source": [
    "x_vars"
   ]
  },
  {
   "cell_type": "code",
   "execution_count": 13,
   "metadata": {
    "collapsed": false
   },
   "outputs": [
    {
     "name": "stdout",
     "output_type": "stream",
     "text": [
      "----------------------------------------------------------------------------\n",
      "\tSCS v1.2.6 - Splitting Conic Solver\n",
      "\t(c) Brendan O'Donoghue, Stanford University, 2012-2016\n",
      "----------------------------------------------------------------------------\n",
      "Lin-sys: sparse-direct, nnz in A = 162\n",
      "eps = 1.00e-03, alpha = 1.50, max_iters = 2500, normalize = 1, scale = 1.00\n",
      "Variables n = 23, constraints m = 62\n",
      "Cones:\tsoc vars: 62, soc blks: 7\n",
      "Setup time: 1.56e-03s\n"
     ]
    },
    {
     "name": "stderr",
     "output_type": "stream",
     "text": [
      "/Users/ajfriend/Dropbox/work/market_subprojects/scs_prox/env3/lib/python3.5/site-packages/cyscs/_util.py:165: UserWarning: Converting A.indptr and A.indices to arrays with dtype = numpy.int64\n",
      "  warn(\"Converting A.indptr and A.indices to arrays with dtype = numpy.int64\")\n"
     ]
    }
   ],
   "source": [
    "prox = Prox(prob, x_vars, verbose=True)"
   ]
  },
  {
   "cell_type": "code",
   "execution_count": 14,
   "metadata": {
    "collapsed": false
   },
   "outputs": [
    {
     "name": "stdout",
     "output_type": "stream",
     "text": [
      "SCS using variable warm-starting\n",
      "----------------------------------------------------------------------------\n",
      " Iter | pri res | dua res | rel gap | pri obj | dua obj | kap/tau | time (s)\n",
      "----------------------------------------------------------------------------\n",
      "     0| 3.04e+00  2.45e+00  9.56e-01 -1.49e+01  6.78e+00  0.00e+00  2.28e-03 \n",
      "    40| 6.44e-05  5.20e-04  3.95e-05  2.81e+00  2.81e+00  1.29e-15  2.56e-03 \n",
      "----------------------------------------------------------------------------\n",
      "Status: Solved\n",
      "Timing: Solve time: 2.58e-03s\n",
      "\tLin-sys: nnz in L factor: 292, avg solve time: 2.37e-06s\n",
      "\tCones: avg projection time: 4.61e-07s\n",
      "----------------------------------------------------------------------------\n",
      "Error metrics:\n",
      "dist(s, K) = 1.1102e-16, dist(y, K*) = 0.0000e+00, s'y/|s||y| = 1.7358e-16\n",
      "|Ax + s - b|_2 / (1 + |b|_2) = 6.4412e-05\n",
      "|A'y + c|_2 / (1 + |c|_2) = 5.1997e-04\n",
      "|c'x + b'y| / (1 + |c'x| + |b'y|) = 3.9538e-05\n",
      "----------------------------------------------------------------------------\n",
      "c'x = 2.8092, -b'y = 2.8095\n",
      "============================================================================\n"
     ]
    },
    {
     "data": {
      "text/plain": [
       "40"
      ]
     },
     "execution_count": 14,
     "metadata": {},
     "output_type": "execute_result"
    }
   ],
   "source": [
    "x0 = prox.prox()\n",
    "prox.info['iter']"
   ]
  },
  {
   "cell_type": "code",
   "execution_count": 7,
   "metadata": {
    "collapsed": false
   },
   "outputs": [
    {
     "data": {
      "text/plain": [
       "(0.002965344, 0.004068136215209961)"
      ]
     },
     "execution_count": 7,
     "metadata": {},
     "output_type": "execute_result"
    }
   ],
   "source": [
    "prox.info['prox_time_inner'], prox.info['prox_time_outer']"
   ]
  },
  {
   "cell_type": "code",
   "execution_count": 7,
   "metadata": {
    "collapsed": false
   },
   "outputs": [
    {
     "name": "stdout",
     "output_type": "stream",
     "text": [
      "SCS using variable warm-starting\n",
      "----------------------------------------------------------------------------\n",
      " Iter | pri res | dua res | rel gap | pri obj | dua obj | kap/tau | time (s)\n",
      "----------------------------------------------------------------------------\n",
      "     0| 1.34e-01  4.24e-01  1.59e-01  2.73e+00  1.85e+00  0.00e+00  2.40e-03 \n",
      "   100| 1.23e-07  1.08e-06  2.04e-07  2.58e+00  2.58e+00  1.80e-15  2.91e-03 \n",
      "----------------------------------------------------------------------------\n",
      "Status: Solved/Inaccurate\n",
      "Hit max_iters, solution may be inaccurate\n",
      "Timing: Solve time: 2.92e-03s\n",
      "\tLin-sys: nnz in L factor: 292, avg solve time: 3.03e-06s\n",
      "\tCones: avg projection time: 5.90e-07s\n",
      "----------------------------------------------------------------------------\n",
      "Error metrics:\n",
      "dist(s, K) = 1.0539e-16, dist(y, K*) = 0.0000e+00, s'y/|s||y| = 1.1897e-17\n",
      "|Ax + s - b|_2 / (1 + |b|_2) = 1.2291e-07\n",
      "|A'y + c|_2 / (1 + |c|_2) = 1.0802e-06\n",
      "|c'x + b'y| / (1 + |c'x| + |b'y|) = 2.0387e-07\n",
      "----------------------------------------------------------------------------\n",
      "c'x = 2.5836, -b'y = 2.5836\n",
      "============================================================================\n"
     ]
    },
    {
     "data": {
      "text/plain": [
       "{'dobj': 2.5836094528225715,\n",
       " 'iter': 100,\n",
       " 'pobj': 2.58361071015188,\n",
       " 'relGap': 2.0387294039163432e-07,\n",
       " 'resDual': 1.080156309985391e-06,\n",
       " 'resInfeas': 4.313733444688058,\n",
       " 'resPri': 1.2290881542708174e-07,\n",
       " 'resUnbdd': nan,\n",
       " 'setupTime': 0.10686,\n",
       " 'solveTime': 2.918642,\n",
       " 'status': 'Solved/Inaccurate',\n",
       " 'statusVal': 2}"
      ]
     },
     "execution_count": 7,
     "metadata": {},
     "output_type": "execute_result"
    }
   ],
   "source": [
    "x0 = prox.prox(x0, verbose=True, eps=1e-6, max_iters=100)\n",
    "prox.work.info"
   ]
  },
  {
   "cell_type": "code",
   "execution_count": 31,
   "metadata": {
    "collapsed": false
   },
   "outputs": [
    {
     "data": {
      "text/plain": [
       "{'x': array([ 0.43552686, -0.39290528, -0.01212791, -0.24843446, -0.10989243]),\n",
       " 'y': array([-0.02544539, -0.09171641, -0.05276113,  0.02481348, -0.10311609,\n",
       "        -0.07523118,  0.16826307,  0.09602798,  0.11508791, -0.08962933]),\n",
       " 'z': -0.0033707103296153835}"
      ]
     },
     "execution_count": 31,
     "metadata": {},
     "output_type": "execute_result"
    }
   ],
   "source": [
    "for _ in range(100):\n",
    "    x0 = prox.prox(x0, verbose=False)\n",
    "x0"
   ]
  },
  {
   "cell_type": "code",
   "execution_count": 32,
   "metadata": {
    "collapsed": false
   },
   "outputs": [
    {
     "data": {
      "text/plain": [
       "(matrix([[ 0.43552509],\n",
       "         [-0.39290414],\n",
       "         [-0.012126  ],\n",
       "         [-0.2484333 ],\n",
       "         [-0.10989178]]), matrix([[-0.02544559],\n",
       "         [-0.09171642],\n",
       "         [-0.05276084],\n",
       "         [ 0.02481352],\n",
       "         [-0.10311548],\n",
       "         [-0.07523073],\n",
       "         [ 0.16826183],\n",
       "         [ 0.09602719],\n",
       "         [ 0.11508688],\n",
       "         [-0.08962866]]), -0.0033708303985597985)"
      ]
     },
     "execution_count": 32,
     "metadata": {},
     "output_type": "execute_result"
    }
   ],
   "source": [
    "prob.solve()\n",
    "x.value, y.value, z.value"
   ]
  },
  {
   "cell_type": "code",
   "execution_count": 120,
   "metadata": {
    "collapsed": false
   },
   "outputs": [
    {
     "data": {
      "text/plain": [
       "'optimal'"
      ]
     },
     "execution_count": 120,
     "metadata": {},
     "output_type": "execute_result"
    }
   ],
   "source": [
    "prob.status"
   ]
  },
  {
   "cell_type": "code",
   "execution_count": 11,
   "metadata": {
    "collapsed": false
   },
   "outputs": [
    {
     "data": {
      "text/plain": [
       "{'dobj': 2.5400919989970303,\n",
       " 'iter': 0,\n",
       " 'pobj': 2.5396274657831786,\n",
       " 'relGap': 7.640701459052477e-05,\n",
       " 'resDual': 0.0004625800750422398,\n",
       " 'resInfeas': 4.097918645108806,\n",
       " 'resPri': 0.00010532126245433556,\n",
       " 'resUnbdd': nan,\n",
       " 'setupTime': 0.107984,\n",
       " 'solveTime': 0.023503,\n",
       " 'status': 'Solved',\n",
       " 'statusVal': 1}"
      ]
     },
     "execution_count": 11,
     "metadata": {},
     "output_type": "execute_result"
    }
   ],
   "source": [
    "prox.work.info"
   ]
  },
  {
   "cell_type": "code",
   "execution_count": 144,
   "metadata": {
    "collapsed": false
   },
   "outputs": [
    {
     "data": {
      "text/plain": [
       "{'x': array([ 0.,  0.,  0.,  0.,  0.]),\n",
       " 'y': array([ 0.,  0.,  0.,  0.,  0.,  0.,  0.,  0.,  0.,  0.]),\n",
       " 'z': 0.0}"
      ]
     },
     "execution_count": 144,
     "metadata": {},
     "output_type": "execute_result"
    }
   ],
   "source": [
    "prox.zero_elem()"
   ]
  },
  {
   "cell_type": "code",
   "execution_count": null,
   "metadata": {
    "collapsed": true
   },
   "outputs": [],
   "source": []
  }
 ],
 "metadata": {
  "kernelspec": {
   "display_name": "Python 3",
   "language": "python",
   "name": "python3"
  },
  "language_info": {
   "codemirror_mode": {
    "name": "ipython",
    "version": 3
   },
   "file_extension": ".py",
   "mimetype": "text/x-python",
   "name": "python",
   "nbconvert_exporter": "python",
   "pygments_lexer": "ipython3",
   "version": "3.5.1"
  }
 },
 "nbformat": 4,
 "nbformat_minor": 0
}

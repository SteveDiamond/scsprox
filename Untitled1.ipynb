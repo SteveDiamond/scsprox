{
 "cells": [
  {
   "cell_type": "markdown",
   "metadata": {},
   "source": [
    "- check that auto-warm-starting works\n",
    "- write some corretness checks that make sure the proxes are doing the right things\n",
    "- prox.prox is weird: .solve or .do?\n",
    "\n",
    "- make sure memory isn't going crazy\n",
    "\n",
    "- test data mutability\n",
    "\n",
    "\n",
    "# user options\n",
    "- what would user want to change?\n",
    "    - rho\n",
    "    - eps\n",
    "    - maxiters\n",
    "    - fail behavior?\n",
    "    - verbose\n",
    "    - put in a custom warm-start?\n",
    "    - reset warm-start\n",
    "    \n",
    "    \n",
    "# fast proxer\n",
    "- just set a tolerance 1e-7\n",
    "- set the max iters to 100 or something\n",
    "- warm starting lets the iters get to zero if needed\n",
    "- workspace persists in settings of 1e-7 and max iters = 100\n"
   ]
  },
  {
   "cell_type": "code",
   "execution_count": 1,
   "metadata": {
    "collapsed": true
   },
   "outputs": [],
   "source": [
    "import numpy as np\n",
    "import cvxpy as cvx\n",
    "from scs_prox import Prox\n",
    "from scs_prox.examples import example_rand"
   ]
  },
  {
   "cell_type": "code",
   "execution_count": 2,
   "metadata": {
    "collapsed": true
   },
   "outputs": [],
   "source": [
    "prob, x_vars, true_sol = example_rand()"
   ]
  },
  {
   "cell_type": "code",
   "execution_count": 3,
   "metadata": {
    "collapsed": false
   },
   "outputs": [
    {
     "data": {
      "text/plain": [
       "{'x': Variable(5, 1), 'y': Variable(10, 1), 'z': Variable(1, 1)}"
      ]
     },
     "execution_count": 3,
     "metadata": {},
     "output_type": "execute_result"
    }
   ],
   "source": [
    "x_vars"
   ]
  },
  {
   "cell_type": "code",
   "execution_count": 4,
   "metadata": {
    "collapsed": false
   },
   "outputs": [
    {
     "name": "stdout",
     "output_type": "stream",
     "text": [
      "----------------------------------------------------------------------------\n",
      "\tSCS v1.2.6 - Splitting Conic Solver\n",
      "\t(c) Brendan O'Donoghue, Stanford University, 2012-2016\n",
      "----------------------------------------------------------------------------\n",
      "Lin-sys: sparse-direct, nnz in A = 162\n",
      "eps = 1.00e-03, alpha = 1.50, max_iters = 2500, normalize = 1, scale = 1.00\n",
      "Variables n = 23, constraints m = 62\n",
      "Cones:\tsoc vars: 62, soc blks: 7\n",
      "Setup time: 1.34e-03s\n"
     ]
    },
    {
     "name": "stderr",
     "output_type": "stream",
     "text": [
      "/Users/ajfriend/Dropbox/work/market_subprojects/scs_prox/env3/lib/python3.5/site-packages/cyscs/_util.py:165: UserWarning: Converting A.indptr and A.indices to arrays with dtype = numpy.int64\n",
      "  warn(\"Converting A.indptr and A.indices to arrays with dtype = numpy.int64\")\n"
     ]
    }
   ],
   "source": [
    "prox = Prox(prob, x_vars, verbose=True)"
   ]
  },
  {
   "cell_type": "code",
   "execution_count": 5,
   "metadata": {
    "collapsed": false
   },
   "outputs": [
    {
     "name": "stdout",
     "output_type": "stream",
     "text": [
      "SCS using variable warm-starting\n",
      "----------------------------------------------------------------------------\n",
      " Iter | pri res | dua res | rel gap | pri obj | dua obj | kap/tau | time (s)\n",
      "----------------------------------------------------------------------------\n",
      "     0| 3.04e+00  2.45e+00  9.56e-01 -1.49e+01  6.78e+00  0.00e+00  2.41e-03 \n",
      "    40| 6.44e-05  5.20e-04  3.95e-05  2.81e+00  2.81e+00  1.29e-15  2.62e-03 \n",
      "----------------------------------------------------------------------------\n",
      "Status: Solved\n",
      "Timing: Solve time: 2.63e-03s\n",
      "\tLin-sys: nnz in L factor: 292, avg solve time: 1.77e-06s\n",
      "\tCones: avg projection time: 3.56e-07s\n",
      "----------------------------------------------------------------------------\n",
      "Error metrics:\n",
      "dist(s, K) = 6.6613e-16, dist(y, K*) = 5.5511e-17, s'y/|s||y| = -1.3430e-16\n",
      "|Ax + s - b|_2 / (1 + |b|_2) = 6.4412e-05\n",
      "|A'y + c|_2 / (1 + |c|_2) = 5.1997e-04\n",
      "|c'x + b'y| / (1 + |c'x| + |b'y|) = 3.9538e-05\n",
      "----------------------------------------------------------------------------\n",
      "c'x = 2.8092, -b'y = 2.8095\n",
      "============================================================================\n"
     ]
    },
    {
     "data": {
      "text/plain": [
       "40"
      ]
     },
     "execution_count": 5,
     "metadata": {},
     "output_type": "execute_result"
    }
   ],
   "source": [
    "x0 = prox.prox()\n",
    "prox.info['iter']"
   ]
  },
  {
   "cell_type": "code",
   "execution_count": 7,
   "metadata": {
    "collapsed": false
   },
   "outputs": [
    {
     "data": {
      "text/plain": [
       "(0.002965344, 0.004068136215209961)"
      ]
     },
     "execution_count": 7,
     "metadata": {},
     "output_type": "execute_result"
    }
   ],
   "source": [
    "prox.info['prox_time_inner'], prox.info['prox_time_outer']"
   ]
  },
  {
   "cell_type": "code",
   "execution_count": 7,
   "metadata": {
    "collapsed": false
   },
   "outputs": [
    {
     "name": "stdout",
     "output_type": "stream",
     "text": [
      "SCS using variable warm-starting\n",
      "----------------------------------------------------------------------------\n",
      " Iter | pri res | dua res | rel gap | pri obj | dua obj | kap/tau | time (s)\n",
      "----------------------------------------------------------------------------\n",
      "     0| 1.34e-01  4.24e-01  1.59e-01  2.73e+00  1.85e+00  0.00e+00  2.40e-03 \n",
      "   100| 1.23e-07  1.08e-06  2.04e-07  2.58e+00  2.58e+00  1.80e-15  2.91e-03 \n",
      "----------------------------------------------------------------------------\n",
      "Status: Solved/Inaccurate\n",
      "Hit max_iters, solution may be inaccurate\n",
      "Timing: Solve time: 2.92e-03s\n",
      "\tLin-sys: nnz in L factor: 292, avg solve time: 3.03e-06s\n",
      "\tCones: avg projection time: 5.90e-07s\n",
      "----------------------------------------------------------------------------\n",
      "Error metrics:\n",
      "dist(s, K) = 1.0539e-16, dist(y, K*) = 0.0000e+00, s'y/|s||y| = 1.1897e-17\n",
      "|Ax + s - b|_2 / (1 + |b|_2) = 1.2291e-07\n",
      "|A'y + c|_2 / (1 + |c|_2) = 1.0802e-06\n",
      "|c'x + b'y| / (1 + |c'x| + |b'y|) = 2.0387e-07\n",
      "----------------------------------------------------------------------------\n",
      "c'x = 2.5836, -b'y = 2.5836\n",
      "============================================================================\n"
     ]
    },
    {
     "data": {
      "text/plain": [
       "{'dobj': 2.5836094528225715,\n",
       " 'iter': 100,\n",
       " 'pobj': 2.58361071015188,\n",
       " 'relGap': 2.0387294039163432e-07,\n",
       " 'resDual': 1.080156309985391e-06,\n",
       " 'resInfeas': 4.313733444688058,\n",
       " 'resPri': 1.2290881542708174e-07,\n",
       " 'resUnbdd': nan,\n",
       " 'setupTime': 0.10686,\n",
       " 'solveTime': 2.918642,\n",
       " 'status': 'Solved/Inaccurate',\n",
       " 'statusVal': 2}"
      ]
     },
     "execution_count": 7,
     "metadata": {},
     "output_type": "execute_result"
    }
   ],
   "source": [
    "x0 = prox.prox(x0, verbose=True, eps=1e-6, max_iters=100)\n",
    "prox.work.info"
   ]
  },
  {
   "cell_type": "code",
   "execution_count": 26,
   "metadata": {
    "collapsed": false
   },
   "outputs": [
    {
     "name": "stdout",
     "output_type": "stream",
     "text": [
      "----------------------------------------------------------------------------\n",
      "\tSCS v1.2.6 - Splitting Conic Solver\n",
      "\t(c) Brendan O'Donoghue, Stanford University, 2012-2016\n",
      "----------------------------------------------------------------------------\n",
      "Lin-sys: sparse-direct, nnz in A = 10512\n",
      "eps = 1.00e-03, alpha = 1.50, max_iters = 2500, normalize = 1, scale = 1.00\n",
      "Variables n = 158, constraints m = 512\n",
      "Cones:\tsoc vars: 512, soc blks: 7\n",
      "Setup time: 3.26e-03s\n"
     ]
    },
    {
     "name": "stderr",
     "output_type": "stream",
     "text": [
      "/Users/ajfriend/Dropbox/work/market_subprojects/scs_prox/env3/lib/python3.5/site-packages/cyscs/_util.py:165: UserWarning: Converting A.indptr and A.indices to arrays with dtype = numpy.int64\n",
      "  warn(\"Converting A.indptr and A.indices to arrays with dtype = numpy.int64\")\n"
     ]
    }
   ],
   "source": [
    "import os\n",
    "import psutil\n",
    "from scs_prox.prox_obj import Prox\n",
    "from scs_prox.examples import example_rand\n",
    "\n",
    "prob, x_vars, true_sol = example_rand(100, 50)\n",
    "\n",
    "prox = Prox(prob, x_vars, verbose=True)\n",
    "x0 = prox.prox(verbose=False)"
   ]
  },
  {
   "cell_type": "code",
   "execution_count": 29,
   "metadata": {
    "collapsed": false
   },
   "outputs": [
    {
     "name": "stdout",
     "output_type": "stream",
     "text": [
      "60.755968\n",
      "60.755968\n",
      "60.755968\n",
      "60.755968\n",
      "60.755968\n",
      "60.755968\n",
      "60.755968\n",
      "60.755968\n",
      "60.755968\n",
      "60.755968\n"
     ]
    }
   ],
   "source": [
    "for i in range(100000):\n",
    "    x0 = prox.prox(x0, verbose=False)\n",
    "    \n",
    "    if i % 10000 == 0:\n",
    "        process = psutil.Process(os.getpid())\n",
    "        print(process.memory_info().rss/1e6)"
   ]
  },
  {
   "cell_type": "code",
   "execution_count": null,
   "metadata": {
    "collapsed": true
   },
   "outputs": [],
   "source": []
  }
 ],
 "metadata": {
  "kernelspec": {
   "display_name": "Python 3",
   "language": "python",
   "name": "python3"
  },
  "language_info": {
   "codemirror_mode": {
    "name": "ipython",
    "version": 3
   },
   "file_extension": ".py",
   "mimetype": "text/x-python",
   "name": "python",
   "nbconvert_exporter": "python",
   "pygments_lexer": "ipython3",
   "version": "3.5.1"
  }
 },
 "nbformat": 4,
 "nbformat_minor": 0
}
